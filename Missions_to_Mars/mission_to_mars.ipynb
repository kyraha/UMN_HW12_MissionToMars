{
 "cells": [
  {
   "cell_type": "code",
   "execution_count": 1,
   "metadata": {},
   "outputs": [],
   "source": [
    "from bs4 import BeautifulSoup\n",
    "from splinter import Browser\n",
    "import requests\n",
    "import time\n",
    "\n",
    "# URL of page to be scraped\n",
    "news_url = \"https://mars.nasa.gov/news/\"\n"
   ]
  },
  {
   "cell_type": "code",
   "execution_count": 2,
   "metadata": {},
   "outputs": [],
   "source": [
    "# Splinter Chrome driver is initialized here. This code is very platform or even host dependent. So I isolate it here to instantiate the browser once for the entire notebook and will use the same instance further down.\n",
    "browser = Browser('chrome', {'executable_path': '/usr/bin/chromdriver'}, headless=False)"
   ]
  },
  {
   "cell_type": "markdown",
   "metadata": {},
   "source": [
    "## NASA Mars News\n",
    "### Plain HTML attempt (failed)\n",
    "See further below to see a better approach to scrape dynamic news. This attempt is for educational purposes, how not to do."
   ]
  },
  {
   "cell_type": "code",
   "execution_count": 3,
   "metadata": {},
   "outputs": [],
   "source": [
    "# Retrieve page with the requests module\n",
    "response = requests.get(news_url)\n",
    " # Create BeautifulSoup object; parse with 'html.parser'\n",
    "soup = BeautifulSoup(response.text, 'html.parser')"
   ]
  },
  {
   "cell_type": "code",
   "execution_count": 4,
   "metadata": {},
   "outputs": [
    {
     "output_type": "execute_result",
     "data": {
      "text/plain": "6"
     },
     "metadata": {},
     "execution_count": 4
    }
   ],
   "source": [
    "# results are returned as an iterable list\n",
    "results = soup.find_all('div', class_=\"slide\")\n",
    "len(results)"
   ]
  },
  {
   "cell_type": "code",
   "execution_count": 5,
   "metadata": {},
   "outputs": [
    {
     "output_type": "stream",
     "name": "stdout",
     "text": "Title:  Alabama High School Student Names NASA's Mars Helicopter\nTeaser: Vaneeza Rupani's essay was chosen as the name for the small spacecraft, which will mark NASA's first attempt at powered flight on another planet.\n\nTitle:  Mars Helicopter Attached to NASA's Perseverance Rover\nTeaser: The team also fueled the rover's sky crane to get ready for this summer's history-making launch.\n\nTitle:  NASA's Perseverance Mars Rover Gets Its Wheels and Air Brakes\nTeaser: After the rover was shipped from JPL to Kennedy Space Center, the team is getting closer to finalizing the spacecraft for launch later this summer.\n\nTitle:  10.9 Million Names Now Aboard NASA's Perseverance Mars Rover\nTeaser: As part of NASA's 'Send Your Name to Mars' campaign, they've been stenciled onto three microchips along with essays from NASA's 'Name the Rover' contest. Next stop: Mars.\n\nTitle:  Virginia Middle School Student Earns Honor of Naming NASA's Next Mars Rover\nTeaser: NASA chose a seventh-grader from Virginia as winner of the agency's \"Name the Rover\" essay contest. Alexander Mather's entry for \"Perseverance\" was voted tops among 28,000 entries.\n\nTitle:  NASA Prepares for Moon and Mars With New Addition to Its Deep Space Network\nTeaser: Robotic spacecraft will be able to communicate with the dish using radio waves and lasers.\n\n"
    }
   ],
   "source": [
    "# Store all the news in a list\n",
    "news = []\n",
    "\n",
    "# Traverse through the results to extract titles and teasers\n",
    "for result in results:\n",
    "    try:\n",
    "        # Each item in the news list is a dictionary\n",
    "        item = {}\n",
    "        # Identify and return teaser of the news\n",
    "        item['news_p'] = result \\\n",
    "            .find(\"div\", class_=\"rollover_description_inner\") \\\n",
    "            .text.strip()\n",
    "        # Identify and return title of the news\n",
    "        item['news_title'] = result \\\n",
    "            .find(\"div\", class_=\"content_title\") \\\n",
    "            .find(\"a\").text.strip()\n",
    "        # Store the newly constructed news item in the list of news\n",
    "        news.append(item)\n",
    "    except AttributeError as e:\n",
    "        print(e)\n",
    "\n",
    "# See what we have gathered\n",
    "for item in news:\n",
    "    print(\"Title: \", item['news_title'])\n",
    "    print(\"Teaser:\", item['news_p'])\n",
    "    print(\"\")"
   ]
  },
  {
   "cell_type": "markdown",
   "metadata": {},
   "source": [
    "## Splinter version\n",
    "It looks like the NASA news site uses dynamic content loading. So simple `requests` is too static for the task. Let's load the page in a real web browser and redo the soup."
   ]
  },
  {
   "cell_type": "code",
   "execution_count": 6,
   "metadata": {},
   "outputs": [
    {
     "output_type": "execute_result",
     "data": {
      "text/plain": "869218"
     },
     "metadata": {},
     "execution_count": 6
    }
   ],
   "source": [
    "# Open the URL in the browser\n",
    "browser.visit(news_url)\n",
    "# Wait for a while to let the browser load the content and render the news\n",
    "time.sleep(2.0)\n",
    "# After the sleep now the time to grab the rendered html\n",
    "html = browser.html\n",
    "# Test html for size to see if we got anything\n",
    "len(html)"
   ]
  },
  {
   "cell_type": "code",
   "execution_count": 7,
   "metadata": {},
   "outputs": [
    {
     "output_type": "execute_result",
     "data": {
      "text/plain": "40"
     },
     "metadata": {},
     "execution_count": 7
    }
   ],
   "source": [
    " # Create BeautifulSoup object; parse with 'html.parser'\n",
    "soup = BeautifulSoup(html, 'html.parser')\n",
    "# results are returned as an iterable list\n",
    "results = soup.find_all('div', class_=\"list_text\")\n",
    "len(results)"
   ]
  },
  {
   "cell_type": "code",
   "execution_count": 8,
   "metadata": {},
   "outputs": [
    {
     "output_type": "stream",
     "name": "stdout",
     "text": "Date:   June 12, 2020\nTitle:  NASA's Mars Rover Drivers Need Your Help\nTeaser: Using an online tool to label Martian terrain types, you can train an artificial intelligence algorithm that could improve the way engineers guide the Curiosity rover.\n\nDate:   June  8, 2020\nTitle:  Three New Views of Mars' Moon Phobos\nTeaser: Taken with the infrared camera aboard NASA's Odyssey orbiter, they reveal temperature variations on the small moon as it drifts into and out of Mars’ shadow.\n\nDate:   June  2, 2020\nTitle:  The Extraordinary Sample-Gathering System of NASA's Perseverance Mars Rover\nTeaser: Two astronauts collected Moon rocks on Apollo 11. It will take three robotic systems working together to gather up the first Mars rock samples for return to Earth.\n\nDate:   May 26, 2020\nTitle:  The Detective Aboard NASA's Perseverance Rover\nTeaser: An instrument called SHERLOC will, with the help of its partner WATSON, hunt for signs of ancient life by detecting organic molecules and minerals.\n\nDate:   May 25, 2020\nTitle:  MAVEN Maps Electric Currents around Mars that are Fundamental to Atmospheric Loss\nTeaser: Five years after NASA’s MAVEN spacecraft entered into orbit around Mars, data from the mission has led to the creation of a map of electric current systems in the Martian atmosphere.\n\nDate:   May 21, 2020\nTitle:  Air Deliveries Bring NASA's Perseverance Mars Rover Closer to Launch\nTeaser: A NASA Wallops Flight Facility cargo plane transported more than two tons of equipment — including the rover's sample collection tubes — to Florida for this summer's liftoff.\n\nDate:   May 19, 2020\nTitle:  NASA Wins 4 Webbys, 4 People's Voice Awards\nTeaser: Winners include the JPL-managed \"Send Your Name to Mars\" campaign, NASA's Global Climate Change website and Solar System Interactive.\n\nDate:   May 18, 2020\nTitle:  NASA's Perseverance Rover Goes Through Trials by Fire, Ice, Light and Sound\nTeaser: The agency's new Mars rover is put through a series of tests in vacuum chambers, acoustic chambers and more to get ready for the Red Planet.\n\nDate:   May  7, 2020\nTitle:  NASA's Perseverance Rover Mission Getting in Shape for Launch\nTeaser: Stacking spacecraft components on top of each other is one of the final assembly steps before a mission launches to the Red Planet.\n\nDate:   May  6, 2020\nTitle:  NASA Perseverance Mars Rover Scientists Train in the Nevada Desert\nTeaser: Team members searched for signs of ancient microscopic life there, just as NASA's latest rover will on the Red Planet next year.\n\nDate:   May  1, 2020\nTitle:  NASA's Perseverance Rover Will Look at Mars Through These 'Eyes'\nTeaser: A pair of zoomable cameras will help scientists and rover drivers with high-resolution color images.\n\nDate:   April 30, 2020\nTitle:  Meet the People Behind NASA's Perseverance Rover\nTeaser: These are the scientists and engineers who built NASA's next Mars rover and who will guide it to a safe landing in Jezero Crater.\n\nDate:   April 29, 2020\nTitle:  Q&A with the Student Who Named Ingenuity, NASA's Mars Helicopter\nTeaser: As a longtime fan of space exploration, Vaneeza Rupani appreciates the creativity and collaboration involved with trying to fly on another planet.\n\nDate:   April 29, 2020\nTitle:  Alabama High School Student Names NASA's Mars Helicopter\nTeaser: Vaneeza Rupani's essay was chosen as the name for the small spacecraft, which will mark NASA's first attempt at powered flight on another planet.\n\nDate:   April 21, 2020\nTitle:  How NASA's Perseverance Mars Team Adjusted to Work in the Time of Coronavirus\nTeaser: Like much of the rest of the world, the Mars rover team is pushing forward with its mission-critical work while putting the health and safety of their colleagues and community first.\n\nDate:   April 20, 2020\nTitle:  NASA's Perseverance Mars Rover Gets Balanced\nTeaser: The mission team performed a crucial weight-balancing test on the rover in preparation for this summer's history-making launch to the Red Planet.\n\nDate:   April 13, 2020\nTitle:  NASA's Curiosity Keeps Rolling As Team Operates Rover From Home\nTeaser: The team has learned to meet new challenges as they work remotely on the Mars mission.\n\nDate:   April 10, 2020\nTitle:  Mars Helicopter Attached to NASA's Perseverance Rover\nTeaser: The team also fueled the rover's sky crane to get ready for this summer's history-making launch.\n\nDate:   April  3, 2020\nTitle:  NASA's Perseverance Mars Rover Gets Its Wheels and Air Brakes\nTeaser: After the rover was shipped from JPL to Kennedy Space Center, the team is getting closer to finalizing the spacecraft for launch later this summer.\n\nDate:   April  1, 2020\nTitle:  The Man Who Wanted to Fly on Mars\nTeaser: The Mars Helicopter is riding to the Red Planet this summer with NASA's Perseverance rover. The helicopter's chief engineer, Bob Balaram, shares the saga of how it came into being.\n\nDate:   March 26, 2020\nTitle:  10.9 Million Names Now Aboard NASA's Perseverance Mars Rover\nTeaser: As part of NASA's 'Send Your Name to Mars' campaign, they've been stenciled onto three microchips along with essays from NASA's 'Name the Rover' contest. Next stop: Mars.\n\nDate:   March 20, 2020\nTitle:  NASA's Curiosity Mars Rover Takes a New Selfie Before Record Climb\nTeaser: Along with capturing an image before its steepest ascent ever, the robotic explorer filmed its \"selfie stick,\" or robotic arm, in action.\n\nDate:   March 19, 2020\nTitle:  NASA's Mars Perseverance Rover Gets Its Sample Handling System\nTeaser: The system will be collecting and storing Martian rock and soil. Its installation marks another milestone in the march toward the July launch period.\n\nDate:   March  5, 2020\nTitle:  Virginia Middle School Student Earns Honor of Naming NASA's Next Mars Rover\nTeaser: NASA chose a seventh-grader from Virginia as winner of the agency's \"Name the Rover\" essay contest. Alexander Mather's entry for \"Perseverance\" was voted tops among 28,000 entries.\n\nDate:   March  4, 2020\nTitle:  NASA's Curiosity Mars Rover Snaps Its Highest-Resolution Panorama Yet\nTeaser: To go along with the stunning 1.8-billion-pixel image, a new video offers a sweeping view of the Red Planet.\n\nDate:   March  3, 2020\nTitle:  NASA to Reveal Name of Its Next Mars Rover\nTeaser: After a months-long contest among students to name NASA's newest Mars rover, the agency will reveal the winning name — and the winning student — this Thursday.\n\nDate:   February 27, 2020\nTitle:  The MarCO Mission Comes to an End\nTeaser: The pair of briefcase-sized satellites made history when they sailed past Mars in 2019.\n\nDate:   February 24, 2020\nTitle:  A Year of Surprising Science From NASA's InSight Mars Mission\nTeaser: A batch of new papers summarizes the lander's findings above and below the surface of the Red Planet.\n\nDate:   February 21, 2020\nTitle:  Mars InSight Lander to Push on Top of the 'Mole'\nTeaser: Engineers have a plan for pushing down on the heat probe, which has been stuck at the Martian surface for a year.\n\nDate:   February 21, 2020\nTitle:  Common Questions about InSight's 'Mole'\nTeaser: The following Q&As with members of the team answer some of the most common questions about the burrowing device, part of a science instrument called the Heat Flow and Physical Properties Package (HP3).\n\nDate:   February 20, 2020\nTitle:  NASA Adds Return Sample Scientists to Mars 2020 Leadership Team\nTeaser: The leadership council for Mars 2020 science added two new members who represent the interests of scientists destined to handle and study the first samples from Red Planet.\n\nDate:   February 18, 2020\nTitle:  NASA's Mars Reconnaissance Orbiter Undergoes Memory Update\nTeaser: Other orbiters will continue relaying data from Mars surface missions for a two-week period.\n\nDate:   February 12, 2020\nTitle:  NASA's Mars 2020 Rover Goes Coast-to-Coast to Prep for Launch\nTeaser: The agency's first step in returning rocks from Mars just arrived at Kennedy Space Center. The Mars 2020 team now begins readying for a launch to the Red Planet this July.\n\nDate:   February 11, 2020\nTitle:  NASA Prepares for Moon and Mars With New Addition to Its Deep Space Network\nTeaser: Robotic spacecraft will be able to communicate with the dish using radio waves and lasers.\n\nDate:   February 10, 2020\nTitle:  NASA Administrator Statement on Moon to Mars Initiative, FY 2021 Budget\nTeaser: Jim Bridenstine addresses NASA's ambitious plans for the coming years, including Mars Sample Return.\n\nDate:   February  7, 2020\nTitle:  All About the Laser (and Microphone) Atop Mars 2020, NASA's Next Rover\nTeaser: SuperCam is a rock-vaporizing instrument that will help scientists hunt for Mars fossils.\n\nDate:   February  3, 2020\nTitle:  NASA's MAVEN Explores Mars to Understand Radio Interference at Earth\nTeaser: NASA’s MAVEN spacecraft has discovered “layers” and “rifts” in the electrically charged part of the upper atmosphere of Mars.\n\nDate:   January 21, 2020\nTitle:  Nine Finalists Chosen in NASA's Mars 2020 Rover Naming Contest\nTeaser: Nine finalists have been chosen in the essay contest for K-12 students across U.S. to name NASA's next Mars rover. Now you can help by voting for your favorite.\n\nDate:   January 13, 2020\nTitle:  NASA's Mars 2020 Rover Closer to Getting Its Name\nTeaser: 155 students from across the U.S. have been chosen as semifinalists in NASA's essay contest to name the Mars 2020 rover, and see it launch from Cape Canaveral this July.\n\nDate:   December 27, 2019\nTitle:  Media Get a Close-Up of NASA's Mars 2020 Rover\nTeaser: The clean room at NASA's Jet Propulsion Laboratory was open to the media to see NASA's next Mars explorer before it leaves for Florida in preparation for a summertime launch.\n\n"
    }
   ],
   "source": [
    "# Store all the news in a list\n",
    "news = []\n",
    "\n",
    "# Traverse through the results to extract titles and teasers\n",
    "for result in results:\n",
    "    try:\n",
    "        # Each item in the news list is a dictionary\n",
    "        item = {}\n",
    "        # Identify and return teaser of the news\n",
    "        item['news_p'] = result \\\n",
    "            .find(\"div\", class_=\"article_teaser_body\") \\\n",
    "            .text.strip()\n",
    "        # Identify and return title of the news\n",
    "        item['news_title'] = result \\\n",
    "            .find(\"div\", class_=\"content_title\") \\\n",
    "            .find(\"a\").text.strip()\n",
    "        item['news_date'] = result \\\n",
    "            .find(\"div\", class_=\"list_date\") \\\n",
    "            .text.strip()\n",
    "        # Store the newly constructed news item in the list of news\n",
    "        news.append(item)\n",
    "    except AttributeError as e:\n",
    "        print(e)\n",
    "\n",
    "# See what we have gathered\n",
    "for item in news:\n",
    "    print(\"Date:  \", item['news_date'])\n",
    "    print(\"Title: \", item['news_title'])\n",
    "    print(\"Teaser:\", item['news_p'])\n",
    "    print(\"\")"
   ]
  },
  {
   "cell_type": "markdown",
   "metadata": {},
   "source": [
    "## JPL Mars Space Images - Featured Image\n",
    "The challenge is to click a button on the page to activate a pop-up window (a \"fancy box\") with the featured image and extract the source URL of that image."
   ]
  },
  {
   "cell_type": "code",
   "execution_count": 9,
   "metadata": {},
   "outputs": [
    {
     "output_type": "execute_result",
     "data": {
      "text/plain": "'FULL IMAGE'"
     },
     "metadata": {},
     "execution_count": 9
    }
   ],
   "source": [
    "# URL of page to be scraped\n",
    "space_url = \"https://www.jpl.nasa.gov/spaceimages/?search=&category=Mars\"\n",
    "# Retrieve page with the requests module\n",
    "space_html = browser.visit(space_url)\n",
    "time.sleep(2.0)\n",
    "img_button = browser.find_by_id('full_image').first\n",
    "img_button.text"
   ]
  },
  {
   "cell_type": "code",
   "execution_count": 10,
   "metadata": {},
   "outputs": [
    {
     "output_type": "stream",
     "name": "stdout",
     "text": "https://www.jpl.nasa.gov/spaceimages/images/mediumsize/PIA13911_ip.jpg\n"
    }
   ],
   "source": [
    "img_button.click()\n",
    "time.sleep(2.0)\n",
    "fancy_image = browser.find_by_css('.fancybox-image').first\n",
    "featured_image_url = fancy_image['src']\n",
    "browser.find_by_css('a.fancybox-close').click()\n",
    "print(featured_image_url)"
   ]
  },
  {
   "cell_type": "markdown",
   "metadata": {},
   "source": [
    "## Mars Weather\n",
    "https://twitter.com/marswxreport?lang=en\n"
   ]
  },
  {
   "cell_type": "code",
   "execution_count": 11,
   "metadata": {},
   "outputs": [
    {
     "output_type": "execute_result",
     "data": {
      "text/plain": "218916"
     },
     "metadata": {},
     "execution_count": 11
    }
   ],
   "source": [
    "browser.visit(\"https://twitter.com/marswxreport?lang=en\")\n",
    "time.sleep(5.0)\n",
    "weather_html = browser.html\n",
    "len(weather_html)"
   ]
  },
  {
   "cell_type": "code",
   "execution_count": 12,
   "metadata": {},
   "outputs": [
    {
     "output_type": "execute_result",
     "data": {
      "text/plain": "194"
     },
     "metadata": {},
     "execution_count": 12
    }
   ],
   "source": [
    "# Create BeautifulSoup object; parse with 'html.parser'\n",
    "InSight_soup = BeautifulSoup(weather_html, 'html.parser')\n",
    "# results are returned as an iterable list\n",
    "InSight_spans = InSight_soup.find_all('span')\n",
    "len(InSight_spans)"
   ]
  },
  {
   "cell_type": "code",
   "execution_count": 13,
   "metadata": {},
   "outputs": [
    {
     "output_type": "stream",
     "name": "stdout",
     "text": "sol 549 (2020-06-12) low -91.8ºC (-133.3ºF) high -1.5ºC (29.3ºF)\nwinds from the SW at 4.5 m/s (10.1 mph) gusting to 18.2 m/s (40.6 mph)\npressure at 7.40 hPa\n"
    }
   ],
   "source": [
    "# Twit texts are buried deep in div hierarchy. However the text paragraphs are within span tags. And the twits we're looking for are all start with \"InSight sol\" and then the sol number. The latest is on the top of the list. So all we have to do is to find the first entry matching these criteria.\n",
    "\n",
    "# Define mars_weather variable and initialize it with \"Not found\" string so in case if the wether twit is not found we will see that that was the case.\n",
    "mars_weather = \"Not found.\"\n",
    "\n",
    "# Iterate through all spans on the page looking for specific string as the first 12 characters\n",
    "for span in InSight_spans:\n",
    "    if span.text[:12] == \"InSight sol \":\n",
    "        mars_weather = span.text[7:]\n",
    "        # Break the loop as soon as we find the first match\n",
    "        break\n",
    "\n",
    "# Pring the result\n",
    "print(mars_weather)"
   ]
  },
  {
   "cell_type": "code",
   "execution_count": null,
   "metadata": {},
   "outputs": [],
   "source": []
  }
 ],
 "metadata": {
  "language_info": {
   "codemirror_mode": {
    "name": "ipython",
    "version": 3
   },
   "file_extension": ".py",
   "mimetype": "text/x-python",
   "name": "python",
   "nbconvert_exporter": "python",
   "pygments_lexer": "ipython3",
   "version": "3.6.9-final"
  },
  "orig_nbformat": 2,
  "kernelspec": {
   "name": "python36964bite81b9c22691d424aad861648dc7efffd",
   "display_name": "Python 3.6.9 64-bit"
  }
 },
 "nbformat": 4,
 "nbformat_minor": 2
}