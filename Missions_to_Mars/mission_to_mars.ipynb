{
 "cells": [
  {
   "cell_type": "code",
   "execution_count": 1,
   "metadata": {},
   "outputs": [],
   "source": [
    "from bs4 import BeautifulSoup\n",
    "import requests"
   ]
  },
  {
   "cell_type": "code",
   "execution_count": 2,
   "metadata": {},
   "outputs": [],
   "source": [
    "# URL of page to be scraped\n",
    "url = \"https://mars.nasa.gov/news/\"\n",
    "# Retrieve page with the requests module\n",
    "response = requests.get(url)\n",
    " # Create BeautifulSoup object; parse with 'html.parser'\n",
    "soup = BeautifulSoup(response.text, 'html.parser')"
   ]
  },
  {
   "cell_type": "code",
   "execution_count": 3,
   "metadata": {},
   "outputs": [
    {
     "output_type": "execute_result",
     "data": {
      "text/plain": "6"
     },
     "metadata": {},
     "execution_count": 3
    }
   ],
   "source": [
    "# results are returned as an iterable list\n",
    "results = soup.find_all('div', class_=\"slide\")\n",
    "len(results)"
   ]
  },
  {
   "cell_type": "code",
   "execution_count": 4,
   "metadata": {},
   "outputs": [
    {
     "output_type": "stream",
     "name": "stdout",
     "text": "Title:  Alabama High School Student Names NASA's Mars Helicopter\nTeaser: Vaneeza Rupani's essay was chosen as the name for the small spacecraft, which will mark NASA's first attempt at powered flight on another planet.\n\nTitle:  Mars Helicopter Attached to NASA's Perseverance Rover\nTeaser: The team also fueled the rover's sky crane to get ready for this summer's history-making launch.\n\nTitle:  NASA's Perseverance Mars Rover Gets Its Wheels and Air Brakes\nTeaser: After the rover was shipped from JPL to Kennedy Space Center, the team is getting closer to finalizing the spacecraft for launch later this summer.\n\nTitle:  10.9 Million Names Now Aboard NASA's Perseverance Mars Rover\nTeaser: As part of NASA's 'Send Your Name to Mars' campaign, they've been stenciled onto three microchips along with essays from NASA's 'Name the Rover' contest. Next stop: Mars.\n\nTitle:  Virginia Middle School Student Earns Honor of Naming NASA's Next Mars Rover\nTeaser: NASA chose a seventh-grader from Virginia as winner of the agency's \"Name the Rover\" essay contest. Alexander Mather's entry for \"Perseverance\" was voted tops among 28,000 entries.\n\nTitle:  NASA Prepares for Moon and Mars With New Addition to Its Deep Space Network\nTeaser: Robotic spacecraft will be able to communicate with the dish using radio waves and lasers.\n\n"
    }
   ],
   "source": [
    "# Store all the news in a list\n",
    "news = []\n",
    "\n",
    "# Traverse through the results to extract titles and teasers\n",
    "for result in results:\n",
    "    try:\n",
    "        # Each item in the news list is a dictionary\n",
    "        item = {}\n",
    "        # Identify and return teaser of the news\n",
    "        item['news_p'] = result \\\n",
    "            .find(\"div\", class_=\"rollover_description_inner\") \\\n",
    "            .text.strip()\n",
    "        # Identify and return title of the news\n",
    "        item['news_title'] = result \\\n",
    "            .find(\"div\", class_=\"content_title\") \\\n",
    "            .find(\"a\").text.strip()\n",
    "        # Store the newly constructed news item in the list of news\n",
    "        news.append(item)\n",
    "    except AttributeError as e:\n",
    "        print(e)\n",
    "\n",
    "# See what we have gathered\n",
    "for item in news:\n",
    "    print(\"Title: \", item['news_title'])\n",
    "    print(\"Teaser:\", item['news_p'])\n",
    "    print(\"\")"
   ]
  },
  {
   "cell_type": "code",
   "execution_count": 5,
   "metadata": {},
   "outputs": [],
   "source": [
    "# URL of page to be scraped\n",
    "url = \"https://www.jpl.nasa.gov/spaceimages/?search=&category=Mars\"\n",
    "# Retrieve page with the requests module\n",
    "response = requests.get(url)\n",
    " # Create BeautifulSoup object; parse with 'html.parser'\n",
    "soup = BeautifulSoup(response.text, 'html.parser')"
   ]
  },
  {
   "cell_type": "code",
   "execution_count": 6,
   "metadata": {},
   "outputs": [
    {
     "output_type": "execute_result",
     "data": {
      "text/plain": "\"background-image: url('/spaceimages/images/wallpaper/PIA19092-1920x1200.jpg');\""
     },
     "metadata": {},
     "execution_count": 6
    }
   ],
   "source": [
    "soup.find(\"article\", class_=\"carousel_item\")['style']"
   ]
  },
  {
   "cell_type": "code",
   "execution_count": null,
   "metadata": {},
   "outputs": [],
   "source": []
  }
 ],
 "metadata": {
  "language_info": {
   "codemirror_mode": {
    "name": "ipython",
    "version": 3
   },
   "file_extension": ".py",
   "mimetype": "text/x-python",
   "name": "python",
   "nbconvert_exporter": "python",
   "pygments_lexer": "ipython3",
   "version": "3.6.9-final"
  },
  "orig_nbformat": 2,
  "kernelspec": {
   "name": "python36964bite81b9c22691d424aad861648dc7efffd",
   "display_name": "Python 3.6.9 64-bit"
  }
 },
 "nbformat": 4,
 "nbformat_minor": 2
}